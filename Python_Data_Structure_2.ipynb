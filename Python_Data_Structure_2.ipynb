{
  "nbformat": 4,
  "nbformat_minor": 0,
  "metadata": {
    "colab": {
      "provenance": [],
      "authorship_tag": "ABX9TyNm2nBLtTKJg1GeZmbOhcve",
      "include_colab_link": true
    },
    "kernelspec": {
      "name": "python3",
      "display_name": "Python 3"
    },
    "language_info": {
      "name": "python"
    }
  },
  "cells": [
    {
      "cell_type": "markdown",
      "metadata": {
        "id": "view-in-github",
        "colab_type": "text"
      },
      "source": [
        "<a href=\"https://colab.research.google.com/github/Rakshay94/Deta-analyst-pw-skills-/blob/main/Python_Data_Structure_2.ipynb\" target=\"_parent\"><img src=\"https://colab.research.google.com/assets/colab-badge.svg\" alt=\"Open In Colab\"/></a>"
      ]
    },
    {
      "cell_type": "markdown",
      "source": [
        "Python Programming Assignment 2"
      ],
      "metadata": {
        "id": "Mu1JxIRUG44_"
      }
    },
    {
      "cell_type": "markdown",
      "source": [
        "Question 1: Discuss string slicing and provide examples."
      ],
      "metadata": {
        "id": "Niw00cWzG8P2"
      }
    },
    {
      "cell_type": "markdown",
      "source": [
        "Answer:\n",
        "String slicing allows you to extract a portion of a string using the syntax"
      ],
      "metadata": {
        "id": "kQkD9qSnG_H_"
      }
    },
    {
      "cell_type": "code",
      "source": [
        "string[start:end:step]"
      ],
      "metadata": {
        "id": "3k5TdSJnHGpg"
      },
      "execution_count": null,
      "outputs": []
    },
    {
      "cell_type": "markdown",
      "source": [
        "Examples:"
      ],
      "metadata": {
        "id": "1G-qjJV0HKZo"
      }
    },
    {
      "cell_type": "code",
      "source": [
        "text = \"Hello, World!\"\n",
        "# Slice from index 0 to 5\n",
        "print(text[0:5])  # Output: Hello\n",
        "\n",
        "# Slice with step\n",
        "print(text[0:12:2])  # Output: Hlo ol"
      ],
      "metadata": {
        "colab": {
          "base_uri": "https://localhost:8080/"
        },
        "id": "75s6bbGbHPWs",
        "outputId": "967d0e65-9eb1-4232-b4fe-b969b96c8029"
      },
      "execution_count": 2,
      "outputs": [
        {
          "output_type": "stream",
          "name": "stdout",
          "text": [
            "Hello\n",
            "Hlo ol\n"
          ]
        }
      ]
    },
    {
      "cell_type": "markdown",
      "source": [
        "Question 2: Explain the key features of lists in Python."
      ],
      "metadata": {
        "id": "WgoNNpmbHSjT"
      }
    },
    {
      "cell_type": "markdown",
      "source": [
        "Answer:\n",
        "  \n",
        "Ordered: Elements in a list have a defined order.\n",
        "\n",
        "Mutable: Lists can be modified after creation.\n",
        "\n",
        "Dynamic: The size of a list can change dynamically.\n",
        "\n",
        "Supports Multiple Data Types: Lists can store elements of different types."
      ],
      "metadata": {
        "id": "iH59ncJ2HntK"
      }
    },
    {
      "cell_type": "markdown",
      "source": [
        "Example:"
      ],
      "metadata": {
        "id": "YgvaujBaIN7k"
      }
    },
    {
      "cell_type": "code",
      "source": [
        "my_list = [1, \"Python\", 3.14]\n",
        "print(my_list)  # Output: [1, 'Python', 3.14]"
      ],
      "metadata": {
        "colab": {
          "base_uri": "https://localhost:8080/"
        },
        "id": "-3PEOhp3IU1n",
        "outputId": "f056cf2e-eb33-4681-eeda-5a0f649951a7"
      },
      "execution_count": 3,
      "outputs": [
        {
          "output_type": "stream",
          "name": "stdout",
          "text": [
            "[1, 'Python', 3.14]\n"
          ]
        }
      ]
    },
    {
      "cell_type": "markdown",
      "source": [
        "Question 3: Describe how to access, modify, and delete elements in a list with examples."
      ],
      "metadata": {
        "id": "GrNLwixdIYUg"
      }
    },
    {
      "cell_type": "markdown",
      "source": [
        "Answer:\n",
        "\n",
        "Access: Use indexing to retrieve elements.\n",
        "\n",
        "Modify: Assign a new value to a specific index.\n",
        "\n",
        "Delete: Use del or methods like remove()."
      ],
      "metadata": {
        "id": "SBBKSP5UIcmx"
      }
    },
    {
      "cell_type": "markdown",
      "source": [
        "Examples:"
      ],
      "metadata": {
        "id": "2q4KUjfHIsDM"
      }
    },
    {
      "cell_type": "code",
      "source": [
        "my_list = [10, 20, 30, 40]\n",
        "# Access\n",
        "print(my_list[1])  # Output: 20\n",
        "\n",
        "# Modify\n",
        "my_list[1] = 25\n",
        "print(my_list)  # Output: [10, 25, 30, 40]\n",
        "\n",
        "# Delete\n",
        "del my_list[1]\n",
        "print(my_list)  # Output: [10, 30, 40]"
      ],
      "metadata": {
        "colab": {
          "base_uri": "https://localhost:8080/"
        },
        "id": "JGArzoOPIvqW",
        "outputId": "f2b397f5-7df8-48ef-b605-bcd5c310ddac"
      },
      "execution_count": 4,
      "outputs": [
        {
          "output_type": "stream",
          "name": "stdout",
          "text": [
            "20\n",
            "[10, 25, 30, 40]\n",
            "[10, 30, 40]\n"
          ]
        }
      ]
    },
    {
      "cell_type": "markdown",
      "source": [
        "Question 4: Compare and contrast tuples and lists with examples."
      ],
      "metadata": {
        "id": "U4i5uJBKI7dg"
      }
    },
    {
      "cell_type": "markdown",
      "source": [
        "Answer:\n",
        "\n",
        "Lists: Mutable, elements can be added, removed, or changed.\n",
        "\n",
        "Tuples: Immutable, cannot be modified after creation."
      ],
      "metadata": {
        "id": "55q28h-LI_gs"
      }
    },
    {
      "cell_type": "markdown",
      "source": [
        "Example:"
      ],
      "metadata": {
        "id": "f4oGm1TaJIjq"
      }
    },
    {
      "cell_type": "code",
      "source": [
        "# List Example\n",
        "my_list = [1, 2, 3]\n",
        "my_list[0] = 10  # Allowed\n",
        "print(my_list)  # Output: [10, 2, 3]\n",
        "\n",
        "# Tuple Example\n",
        "my_tuple = (1, 2, 3)\n",
        "# my_tuple[0] = 10  # Raises an error as tuples are immutable"
      ],
      "metadata": {
        "colab": {
          "base_uri": "https://localhost:8080/"
        },
        "id": "WdpL3jbMJMXD",
        "outputId": "5bc6c4a1-55a0-4e6c-bf45-7a561a67bf0e"
      },
      "execution_count": 5,
      "outputs": [
        {
          "output_type": "stream",
          "name": "stdout",
          "text": [
            "[10, 2, 3]\n"
          ]
        }
      ]
    },
    {
      "cell_type": "markdown",
      "source": [
        "Question 5: Describe the key features of sets and provide examples of their use."
      ],
      "metadata": {
        "id": "6nhgtyhBJPQH"
      }
    },
    {
      "cell_type": "markdown",
      "source": [
        "Answer:\n",
        "\n",
        "Unique Elements: Sets do not allow duplicate values.\n",
        "\n",
        "Unordered: No defined order of elements.\n",
        "\n",
        "Dynamic: Elements can be added or removed."
      ],
      "metadata": {
        "id": "i2qvLsgWJSkp"
      }
    },
    {
      "cell_type": "markdown",
      "source": [
        "Example:"
      ],
      "metadata": {
        "id": "wn9CkdiiJdxU"
      }
    },
    {
      "cell_type": "code",
      "source": [
        "my_set = {1, 2, 3, 1}\n",
        "print(my_set)  # Output: {1, 2, 3}"
      ],
      "metadata": {
        "colab": {
          "base_uri": "https://localhost:8080/"
        },
        "id": "6slgrJxTJimB",
        "outputId": "981a3074-ce46-40c1-a27e-e9508305c5f0"
      },
      "execution_count": 6,
      "outputs": [
        {
          "output_type": "stream",
          "name": "stdout",
          "text": [
            "{1, 2, 3}\n"
          ]
        }
      ]
    },
    {
      "cell_type": "markdown",
      "source": [
        "Question 6: Discuss the use cases of tuples and sets in Python programming."
      ],
      "metadata": {
        "id": "DCi9K9HtJkld"
      }
    },
    {
      "cell_type": "markdown",
      "source": [
        "Answer:\n",
        "\n",
        "Tuples: Used when data should not change, e.g., coordinates.\n",
        "\n",
        "Sets: Used for membership testing, removing duplicates, and mathematical operations."
      ],
      "metadata": {
        "id": "vEqQ3gnmJnxi"
      }
    },
    {
      "cell_type": "markdown",
      "source": [
        "Example:"
      ],
      "metadata": {
        "id": "fdxL4Xd1Jv2F"
      }
    },
    {
      "cell_type": "code",
      "source": [
        "# Tuple for coordinates\n",
        "coords = (10, 20)\n",
        "print(coords)\n",
        "\n",
        "# Set for removing duplicates\n",
        "my_list = [1, 2, 2, 3]\n",
        "unique_set = set(my_list)\n",
        "print(unique_set)  # Output: {1, 2, 3}"
      ],
      "metadata": {
        "colab": {
          "base_uri": "https://localhost:8080/"
        },
        "id": "9W1uuTcCJxrO",
        "outputId": "c57dad4c-4891-420e-aa63-b6676bbefcc8"
      },
      "execution_count": 7,
      "outputs": [
        {
          "output_type": "stream",
          "name": "stdout",
          "text": [
            "(10, 20)\n",
            "{1, 2, 3}\n"
          ]
        }
      ]
    },
    {
      "cell_type": "markdown",
      "source": [
        "Question 7: Describe how to add, modify, and delete items in a dictionary with examples."
      ],
      "metadata": {
        "id": "Jdnt6wp5J03R"
      }
    },
    {
      "cell_type": "markdown",
      "source": [
        "Answer:\n",
        "\n",
        "Add: Use a new key-value pair.\n",
        "\n",
        "Modify: Assign a new value to an existing key.\n",
        "\n",
        "key.\n",
        "Delete: Use del or pop()."
      ],
      "metadata": {
        "id": "jHxKfxQbJ5Ip"
      }
    },
    {
      "cell_type": "markdown",
      "source": [
        "Example:"
      ],
      "metadata": {
        "id": "nR5P0-ReKFjY"
      }
    },
    {
      "cell_type": "code",
      "source": [
        "my_dict = {\"a\": 1, \"b\": 2}\n",
        "# Add\n",
        "my_dict[\"c\"] = 3\n",
        "print(my_dict)  # Output: {'a': 1, 'b': 2, 'c': 3}\n",
        "\n",
        "# Modify\n",
        "my_dict[\"a\"] = 10\n",
        "print(my_dict)  # Output: {'a': 10, 'b': 2, 'c': 3}\n",
        "\n",
        "# Delete\n",
        "del my_dict[\"b\"]\n",
        "print(my_dict)  # Output: {'a': 10, 'c': 3}"
      ],
      "metadata": {
        "colab": {
          "base_uri": "https://localhost:8080/"
        },
        "id": "vFBompR1KHed",
        "outputId": "075cc895-1f06-4cc6-8063-b34b284532c9"
      },
      "execution_count": 8,
      "outputs": [
        {
          "output_type": "stream",
          "name": "stdout",
          "text": [
            "{'a': 1, 'b': 2, 'c': 3}\n",
            "{'a': 10, 'b': 2, 'c': 3}\n",
            "{'a': 10, 'c': 3}\n"
          ]
        }
      ]
    },
    {
      "cell_type": "markdown",
      "source": [
        "Question 8: Discuss the importance of dictionary keys being immutable and provide examples."
      ],
      "metadata": {
        "id": "Jx-7sisgKKzc"
      }
    },
    {
      "cell_type": "markdown",
      "source": [
        "Answer:\n",
        "Dictionary keys must be immutable to maintain the integrity of data and ensure hashable keys."
      ],
      "metadata": {
        "id": "bhuXZEPwKXKF"
      }
    },
    {
      "cell_type": "markdown",
      "source": [
        "Example:"
      ],
      "metadata": {
        "id": "mJzZqaHzKdpl"
      }
    },
    {
      "cell_type": "code",
      "source": [
        "# Valid keys (Immutable types)\n",
        "my_dict = {1: \"one\", (2, 3): \"tuple\"}\n",
        "\n",
        "# Invalid keys (Mutable types)\n",
        "# my_dict = {[1, 2]: \"list\"}  # Raises a TypeError"
      ],
      "metadata": {
        "id": "AJfPyYWFKfoz"
      },
      "execution_count": 9,
      "outputs": []
    }
  ]
}