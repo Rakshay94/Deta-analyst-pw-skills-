{
  "nbformat": 4,
  "nbformat_minor": 0,
  "metadata": {
    "colab": {
      "provenance": [],
      "authorship_tag": "ABX9TyN6I35hpYFKDBYaycmgfC/B",
      "include_colab_link": true
    },
    "kernelspec": {
      "name": "python3",
      "display_name": "Python 3"
    },
    "language_info": {
      "name": "python"
    }
  },
  "cells": [
    {
      "cell_type": "markdown",
      "metadata": {
        "id": "view-in-github",
        "colab_type": "text"
      },
      "source": [
        "<a href=\"https://colab.research.google.com/github/Rakshay94/Deta-analyst-pw-skills-/blob/main/Python_OOPS_Assignment4.ipynb\" target=\"_parent\"><img src=\"https://colab.research.google.com/assets/colab-badge.svg\" alt=\"Open In Colab\"/></a>"
      ]
    },
    {
      "cell_type": "markdown",
      "source": [
        "# OOPS **Assignment**"
      ],
      "metadata": {
        "id": "LpuoH7Ae2D3K"
      }
    },
    {
      "cell_type": "markdown",
      "source": [
        "1. What are the five key concepts of Object-Oriented Programming (OOP)?"
      ],
      "metadata": {
        "id": "hUxifVXe2lOK"
      }
    },
    {
      "cell_type": "code",
      "source": [
        "# Key Concepts of OOP:\n",
        "# 1. **Encapsulation**: Bundling data and methods that operate on the data within one unit (class) and restricting direct access to some of the class's components.\n",
        "# 2. **Inheritance**: A mechanism where one class derives properties and behaviors from another class.\n",
        "# 3. **Polymorphism**: The ability to present the same interface for different underlying data types (e.g., method overriding).\n",
        "# 4. **Abstraction**: Hiding implementation details from the user and only exposing essential features.\n",
        "# 5. **Classes and Objects**: Classes are blueprints for objects, and objects are instances of classes.\n"
      ],
      "metadata": {
        "id": "iR-Y_nfz2onU"
      },
      "execution_count": 1,
      "outputs": []
    },
    {
      "cell_type": "markdown",
      "source": [
        "2. Write a Python class for a Car with attributes for make, model, and year. Include a method to display the car's information."
      ],
      "metadata": {
        "id": "GVj1pwTN2qkh"
      }
    },
    {
      "cell_type": "code",
      "source": [
        "class Car:\n",
        "    def __init__(self, make, model, year):\n",
        "        self.make = make\n",
        "        self.model = model\n",
        "        self.year = year\n",
        "\n",
        "    def display_info(self):\n",
        "        print(f\"Car Info: {self.year} {self.make} {self.model}\")\n",
        "\n",
        "# Example usage\n",
        "car1 = Car(\"Toyota\", \"Corolla\", 2020)\n",
        "car1.display_info()\n"
      ],
      "metadata": {
        "colab": {
          "base_uri": "https://localhost:8080/"
        },
        "id": "jExga_W-2wJP",
        "outputId": "947e751f-6830-4a79-fac6-a020c903eac5"
      },
      "execution_count": 2,
      "outputs": [
        {
          "output_type": "stream",
          "name": "stdout",
          "text": [
            "Car Info: 2020 Toyota Corolla\n"
          ]
        }
      ]
    },
    {
      "cell_type": "markdown",
      "source": [
        "3. Explain the difference between instance methods and class methods. Provide an example of each."
      ],
      "metadata": {
        "id": "K2qAQPF62zSJ"
      }
    },
    {
      "cell_type": "code",
      "source": [
        "class Example:\n",
        "    # Instance method: works with instance attributes\n",
        "    def instance_method(self):\n",
        "        print(\"This is an instance method.\")\n",
        "\n",
        "    # Class method: works with class attributes and is marked with @classmethod\n",
        "    @classmethod\n",
        "    def class_method(cls):\n",
        "        print(\"This is a class method.\")\n",
        "\n",
        "# Example usage\n",
        "obj = Example()\n",
        "obj.instance_method()  # Call instance method\n",
        "Example.class_method()  # Call class method\n"
      ],
      "metadata": {
        "colab": {
          "base_uri": "https://localhost:8080/"
        },
        "id": "upBgv9Dn23RA",
        "outputId": "cfeeb42b-0fc0-4fb1-8812-8f74d25c63dc"
      },
      "execution_count": 3,
      "outputs": [
        {
          "output_type": "stream",
          "name": "stdout",
          "text": [
            "This is an instance method.\n",
            "This is a class method.\n"
          ]
        }
      ]
    },
    {
      "cell_type": "markdown",
      "source": [
        "4. How does Python implement method overloading? Give an example."
      ],
      "metadata": {
        "id": "QlukEjVq25Rp"
      }
    },
    {
      "cell_type": "code",
      "source": [
        "# Python does not support method overloading directly.\n",
        "# Instead, you can achieve similar functionality using default arguments or `*args`.\n",
        "\n",
        "class OverloadExample:\n",
        "    def greet(self, name=None):\n",
        "        if name:\n",
        "            print(f\"Hello, {name}!\")\n",
        "        else:\n",
        "            print(\"Hello!\")\n",
        "\n",
        "# Example usage\n",
        "obj = OverloadExample()\n",
        "obj.greet()        # No argument\n",
        "obj.greet(\"Alice\") # With argument\n"
      ],
      "metadata": {
        "colab": {
          "base_uri": "https://localhost:8080/"
        },
        "id": "sBTtkghf2-N1",
        "outputId": "3f5c07af-be4e-4f43-d00d-8e36c99ac83f"
      },
      "execution_count": 4,
      "outputs": [
        {
          "output_type": "stream",
          "name": "stdout",
          "text": [
            "Hello!\n",
            "Hello, Alice!\n"
          ]
        }
      ]
    },
    {
      "cell_type": "markdown",
      "source": [
        "5. What are the three types of access modifiers in Python? How are they denoted?"
      ],
      "metadata": {
        "id": "v0o3Z7nz3Ded"
      }
    },
    {
      "cell_type": "code",
      "source": [
        "# 1. Public: Accessible from anywhere, denoted without any prefix.\n",
        "# 2. Protected: Accessible within the class and its subclasses, denoted with a single underscore `_`.\n",
        "# 3. Private: Accessible only within the class, denoted with a double underscore `__`.\n",
        "\n",
        "class Example:\n",
        "    public_var = \"I am public\"\n",
        "    _protected_var = \"I am protected\"\n",
        "    __private_var = \"I am private\"\n"
      ],
      "metadata": {
        "id": "1aDHZR6I3EQe"
      },
      "execution_count": 5,
      "outputs": []
    },
    {
      "cell_type": "markdown",
      "source": [
        "6. Describe the five types of inheritance in Python. Provide a simple example of multiple inheritance."
      ],
      "metadata": {
        "id": "mZjoQxpY3GGc"
      }
    },
    {
      "cell_type": "code",
      "source": [
        "# Types of inheritance:\n",
        "# 1. Single: One child inherits from one parent.\n",
        "# 2. Multiple: One child inherits from multiple parents.\n",
        "# 3. Multilevel: A child inherits from a parent, which inherits from another parent.\n",
        "# 4. Hierarchical: Multiple children inherit from one parent.\n",
        "# 5. Hybrid: Combination of two or more types.\n",
        "\n",
        "# Example: Multiple Inheritance\n",
        "class Parent1:\n",
        "    def func1(self):\n",
        "        print(\"This is from Parent1\")\n",
        "\n",
        "class Parent2:\n",
        "    def func2(self):\n",
        "        print(\"This is from Parent2\")\n",
        "\n",
        "class Child(Parent1, Parent2):\n",
        "    def func3(self):\n",
        "        print(\"This is from Child\")\n",
        "\n",
        "# Example usage\n",
        "child = Child()\n",
        "child.func1()\n",
        "child.func2()\n",
        "child.func3()\n"
      ],
      "metadata": {
        "colab": {
          "base_uri": "https://localhost:8080/"
        },
        "id": "pXNc6NTv3Khh",
        "outputId": "8bb82d9e-f836-4ef2-fc44-4abe283e6a5d"
      },
      "execution_count": 6,
      "outputs": [
        {
          "output_type": "stream",
          "name": "stdout",
          "text": [
            "This is from Parent1\n",
            "This is from Parent2\n",
            "This is from Child\n"
          ]
        }
      ]
    },
    {
      "cell_type": "markdown",
      "source": [
        "7. What is the Method Resolution Order (MRO) in Python? How can you retrieve it programmatically?"
      ],
      "metadata": {
        "id": "_Jj1OQh03NGu"
      }
    },
    {
      "cell_type": "code",
      "source": [
        "# MRO is the order in which Python looks for methods in a hierarchy of classes.\n",
        "# It can be retrieved using `ClassName.mro()` or `ClassName.__mro__`.\n",
        "\n",
        "class A: pass\n",
        "class B(A): pass\n",
        "class C(B): pass\n",
        "\n",
        "print(C.mro())\n"
      ],
      "metadata": {
        "colab": {
          "base_uri": "https://localhost:8080/"
        },
        "id": "Y-dcAt3e3T4M",
        "outputId": "4b990193-39b9-4415-e325-30c27e33b18f"
      },
      "execution_count": 7,
      "outputs": [
        {
          "output_type": "stream",
          "name": "stdout",
          "text": [
            "[<class '__main__.C'>, <class '__main__.B'>, <class '__main__.A'>, <class 'object'>]\n"
          ]
        }
      ]
    },
    {
      "cell_type": "markdown",
      "source": [
        "8. Create an abstract base class Shape with an abstract method area(). Then create two subclasses Circle and Rectangle that implement the area() method."
      ],
      "metadata": {
        "id": "IsOjq8A73V4e"
      }
    },
    {
      "cell_type": "code",
      "source": [
        "from abc import ABC, abstractmethod\n",
        "\n",
        "class Shape(ABC):\n",
        "    @abstractmethod\n",
        "    def area(self):\n",
        "        pass\n",
        "\n",
        "class Circle(Shape):\n",
        "    def __init__(self, radius):\n",
        "        self.radius = radius\n",
        "\n",
        "    def area(self):\n",
        "        return 3.14 * self.radius ** 2\n",
        "\n",
        "class Rectangle(Shape):\n",
        "    def __init__(self, width, height):\n",
        "        self.width = width\n",
        "        self.height = height\n",
        "\n",
        "    def area(self):\n",
        "        return self.width * self.height\n",
        "\n",
        "# Example usage\n",
        "circle = Circle(5)\n",
        "rectangle = Rectangle(4, 6)\n",
        "print(\"Circle Area:\", circle.area())\n",
        "print(\"Rectangle Area:\", rectangle.area())\n"
      ],
      "metadata": {
        "colab": {
          "base_uri": "https://localhost:8080/"
        },
        "id": "Ze160QhU3Z1Y",
        "outputId": "d956dd1f-75c9-4132-ca2b-d9e66e2a788c"
      },
      "execution_count": 8,
      "outputs": [
        {
          "output_type": "stream",
          "name": "stdout",
          "text": [
            "Circle Area: 78.5\n",
            "Rectangle Area: 24\n"
          ]
        }
      ]
    },
    {
      "cell_type": "markdown",
      "source": [
        "9. Demonstrate polymorphism by creating a function that can work with different shape objects to calculate and print their areas."
      ],
      "metadata": {
        "id": "nLrmTER93blk"
      }
    },
    {
      "cell_type": "code",
      "source": [
        "def print_area(shape):\n",
        "    print(f\"The area is: {shape.area()}\")\n",
        "\n",
        "# Using the Circle and Rectangle classes from above\n",
        "print_area(Circle(5))\n",
        "print_area(Rectangle(4, 6))\n"
      ],
      "metadata": {
        "colab": {
          "base_uri": "https://localhost:8080/"
        },
        "id": "xYv_Snro3hAX",
        "outputId": "85e07b3d-a082-4b67-9e2a-4b53de0ab89b"
      },
      "execution_count": 9,
      "outputs": [
        {
          "output_type": "stream",
          "name": "stdout",
          "text": [
            "The area is: 78.5\n",
            "The area is: 24\n"
          ]
        }
      ]
    },
    {
      "cell_type": "markdown",
      "source": [
        "10. Implement encapsulation in a BankAccount class with private attributes for balance and account_number. Include methods for deposit, withdrawal, and balance inquiry."
      ],
      "metadata": {
        "id": "bv2vbVEM4Rjv"
      }
    },
    {
      "cell_type": "code",
      "source": [
        "class BankAccount:\n",
        "    def __init__(self, account_number, balance=0):\n",
        "        self.__account_number = account_number  # Private attribute\n",
        "        self.__balance = balance  # Private attribute\n",
        "\n",
        "    def deposit(self, amount):\n",
        "        if amount > 0:\n",
        "            self.__balance += amount\n",
        "            print(f\"Deposited {amount}. New balance: {self.__balance}\")\n",
        "        else:\n",
        "            print(\"Deposit amount must be positive.\")\n",
        "\n",
        "    def withdraw(self, amount):\n",
        "        if amount > 0 and amount <= self.__balance:\n",
        "            self.__balance -= amount\n",
        "            print(f\"Withdrew {amount}. Remaining balance: {self.__balance}\")\n",
        "        elif amount > self.__balance:\n",
        "            print(\"Insufficient balance!\")\n",
        "        else:\n",
        "            print(\"Withdrawal amount must be positive.\")\n",
        "\n",
        "    def balance_inquiry(self):\n",
        "        print(f\"Your account balance is: {self.__balance}\")\n",
        "\n",
        "# Example usage\n",
        "account = BankAccount(123456789, 1000)\n",
        "account.deposit(500)\n",
        "account.withdraw(300)\n",
        "account.balance_inquiry()\n"
      ],
      "metadata": {
        "colab": {
          "base_uri": "https://localhost:8080/"
        },
        "id": "CJLIIFuH4aG2",
        "outputId": "aa554098-a785-43c3-c558-51d346199bbe"
      },
      "execution_count": 10,
      "outputs": [
        {
          "output_type": "stream",
          "name": "stdout",
          "text": [
            "Deposited 500. New balance: 1500\n",
            "Withdrew 300. Remaining balance: 1200\n",
            "Your account balance is: 1200\n"
          ]
        }
      ]
    },
    {
      "cell_type": "markdown",
      "source": [
        "11. Write a class that overrides the __str__ and __add__ magic methods. What will these methods allow you to do?"
      ],
      "metadata": {
        "id": "A46u8eFH4b7J"
      }
    },
    {
      "cell_type": "code",
      "source": [
        "class Item:\n",
        "    def __init__(self, name, price):\n",
        "        self.name = name\n",
        "        self.price = price\n",
        "\n",
        "    # Overriding __str__\n",
        "    def __str__(self):\n",
        "        return f\"Item({self.name}, Price: {self.price})\"\n",
        "\n",
        "    # Overriding __add__\n",
        "    def __add__(self, other):\n",
        "        if isinstance(other, Item):\n",
        "            return self.price + other.price\n",
        "        raise ValueError(\"Can only add another Item.\")\n",
        "\n",
        "# Example usage\n",
        "item1 = Item(\"Book\", 10)\n",
        "item2 = Item(\"Pen\", 2)\n",
        "\n",
        "print(item1)  # Output: Item(Book, Price: 10)\n",
        "print(item2)  # Output: Item(Pen, Price: 2)\n",
        "\n",
        "total_price = item1 + item2  # __add__ is called\n",
        "print(\"Total Price:\", total_price)\n"
      ],
      "metadata": {
        "colab": {
          "base_uri": "https://localhost:8080/"
        },
        "id": "kGg1tELp4f8V",
        "outputId": "06403a77-03d7-4ff1-9458-ee8052d495b4"
      },
      "execution_count": 11,
      "outputs": [
        {
          "output_type": "stream",
          "name": "stdout",
          "text": [
            "Item(Book, Price: 10)\n",
            "Item(Pen, Price: 2)\n",
            "Total Price: 12\n"
          ]
        }
      ]
    },
    {
      "cell_type": "markdown",
      "source": [
        "12. Create a decorator that measures and prints the execution time of a function."
      ],
      "metadata": {
        "id": "48vsyCd34oGH"
      }
    },
    {
      "cell_type": "code",
      "source": [
        "import time\n",
        "\n",
        "def execution_timer(func):\n",
        "    def wrapper(*args, **kwargs):\n",
        "        start_time = time.time()\n",
        "        result = func(*args, **kwargs)\n",
        "        end_time = time.time()\n",
        "        print(f\"Execution time for {func.__name__}: {end_time - start_time:.4f} seconds\")\n",
        "        return result\n",
        "    return wrapper\n",
        "\n",
        "@execution_timer\n",
        "def sample_function(n):\n",
        "    time.sleep(n)  # Simulates a time-consuming task\n",
        "    print(\"Function executed!\")\n",
        "\n",
        "# Example usage\n",
        "sample_function(2)\n"
      ],
      "metadata": {
        "colab": {
          "base_uri": "https://localhost:8080/"
        },
        "id": "-92ePzRh4o8y",
        "outputId": "de9164e7-70e8-4499-f4a4-c28950cb85c5"
      },
      "execution_count": 12,
      "outputs": [
        {
          "output_type": "stream",
          "name": "stdout",
          "text": [
            "Function executed!\n",
            "Execution time for sample_function: 2.0030 seconds\n"
          ]
        }
      ]
    },
    {
      "cell_type": "markdown",
      "source": [
        "13. Explain the concept of the Diamond Problem in multiple inheritance. How does Python resolve it?"
      ],
      "metadata": {
        "id": "66YDeLu54uP5"
      }
    },
    {
      "cell_type": "code",
      "source": [
        "# The Diamond Problem occurs in multiple inheritance when a child class inherits from two classes\n",
        "# that both inherit from the same base class. This creates ambiguity about which class's method\n",
        "# should be executed.\n",
        "\n",
        "class A:\n",
        "    def greet(self):\n",
        "        print(\"Hello from A\")\n",
        "\n",
        "class B(A):\n",
        "    def greet(self):\n",
        "        print\n"
      ],
      "metadata": {
        "id": "-Zyqpa3V4vI_"
      },
      "execution_count": 13,
      "outputs": []
    },
    {
      "cell_type": "markdown",
      "source": [
        "14. Write a class method that keeps track of the number of instances created from a class."
      ],
      "metadata": {
        "id": "VtAVhO1Z4yHR"
      }
    },
    {
      "cell_type": "code",
      "source": [
        "class InstanceCounter:\n",
        "    instance_count = 0  # Class variable to keep track of instances\n",
        "\n",
        "    def __init__(self):\n",
        "        InstanceCounter.instance_count += 1\n",
        "\n",
        "    @classmethod\n",
        "    def get_instance_count(cls):\n",
        "        return cls.instance_count\n",
        "\n",
        "# Example usage\n",
        "obj1 = InstanceCounter()\n",
        "obj2 = InstanceCounter()\n",
        "obj3 = InstanceCounter()\n",
        "\n",
        "print(\"Number of instances created:\", InstanceCounter.get_instance_count())\n"
      ],
      "metadata": {
        "colab": {
          "base_uri": "https://localhost:8080/"
        },
        "id": "A2HASqMG5Frv",
        "outputId": "f642368a-0007-4077-c949-c6c43ea08ff0"
      },
      "execution_count": 14,
      "outputs": [
        {
          "output_type": "stream",
          "name": "stdout",
          "text": [
            "Number of instances created: 3\n"
          ]
        }
      ]
    },
    {
      "cell_type": "markdown",
      "source": [
        "15. Implement a static method in a class that checks if a given year is a leap year."
      ],
      "metadata": {
        "id": "XozuuG_m5JFv"
      }
    },
    {
      "cell_type": "code",
      "source": [
        "class YearUtility:\n",
        "    @staticmethod\n",
        "    def is_leap_year(year):\n",
        "        if (year % 4 == 0 and year % 100 != 0) or (year % 400 == 0):\n",
        "            return True\n",
        "        return False\n",
        "\n",
        "# Example usage\n",
        "print(\"2024 is leap year:\", YearUtility.is_leap_year(2024))  # True\n",
        "print(\"1900 is leap year:\", YearUtility.is_leap_year(1900))  # False\n",
        "print(\"2000 is leap year:\", YearUtility.is_leap_year(2000))  # True\n"
      ],
      "metadata": {
        "colab": {
          "base_uri": "https://localhost:8080/"
        },
        "id": "LxcSY8es5MYG",
        "outputId": "da01ebc7-3a56-44b1-9505-755864c96b80"
      },
      "execution_count": 15,
      "outputs": [
        {
          "output_type": "stream",
          "name": "stdout",
          "text": [
            "2024 is leap year: True\n",
            "1900 is leap year: False\n",
            "2000 is leap year: True\n"
          ]
        }
      ]
    }
  ]
}