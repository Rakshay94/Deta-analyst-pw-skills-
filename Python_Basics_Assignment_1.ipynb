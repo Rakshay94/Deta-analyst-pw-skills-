{
  "nbformat": 4,
  "nbformat_minor": 0,
  "metadata": {
    "colab": {
      "provenance": [],
      "authorship_tag": "ABX9TyNGyyipwDiAoRPsWsJVJOQt",
      "include_colab_link": true
    },
    "kernelspec": {
      "name": "python3",
      "display_name": "Python 3"
    },
    "language_info": {
      "name": "python"
    }
  },
  "cells": [
    {
      "cell_type": "markdown",
      "metadata": {
        "id": "view-in-github",
        "colab_type": "text"
      },
      "source": [
        "<a href=\"https://colab.research.google.com/github/Rakshay94/Deta-analyst-pw-skills-/blob/main/Python_Basics_Assignment_1.ipynb\" target=\"_parent\"><img src=\"https://colab.research.google.com/assets/colab-badge.svg\" alt=\"Open In Colab\"/></a>"
      ]
    },
    {
      "cell_type": "markdown",
      "source": [
        "PYTHON PROGRAMMING ASSIGNMENT"
      ],
      "metadata": {
        "id": "7Jgr2a5iExLt"
      }
    },
    {
      "cell_type": "markdown",
      "source": [
        "Question 1: Explain the key features of Python that make it a popular choice for programming."
      ],
      "metadata": {
        "id": "OeEbapLiEGJc"
      }
    },
    {
      "cell_type": "markdown",
      "source": [
        "Answer:\n",
        "- **Simple & Readable**: Python’s syntax is clear, making it easy to learn and understand.\n",
        "- **Interpreted Language**: Executes code line-by-line, making debugging easier.\n",
        "- **Object-Oriented**: Supports concepts like classes and objects for structured programming.\n",
        "- **Dynamic Typing**: Variable types are determined at runtime, so you don’t need to declare them.\n",
        "- **Extensive Libraries**: Includes modules for web development, data science, AI, etc.\n",
        "- **Cross-Platform**: Works on various operating systems without modification."
      ],
      "metadata": {
        "id": "a3qm40qtEOjE"
      }
    },
    {
      "cell_type": "markdown",
      "source": [
        "Question 2: Describe the role of predefined keywords in Python and provide examples of how they are used in a program."
      ],
      "metadata": {
        "id": "L2Sty5DRE7cv"
      }
    },
    {
      "cell_type": "markdown",
      "source": [
        "Answer:\n",
        "\n",
        "Keywords are reserved words in Python that have special meanings, such as if, else, and for."
      ],
      "metadata": {
        "id": "eReYkTh1FGDy"
      }
    },
    {
      "cell_type": "markdown",
      "source": [
        "Example:"
      ],
      "metadata": {
        "id": "aEJKwpmpFVW1"
      }
    },
    {
      "cell_type": "code",
      "source": [
        "age = 18\n",
        "if age >= 18:\n",
        "    print(\"Eligible to vote\")\n",
        "else:\n",
        "    print(\"Not eligible\")"
      ],
      "metadata": {
        "colab": {
          "base_uri": "https://localhost:8080/"
        },
        "id": "ZyWI9QCoGg2m",
        "outputId": "4919da53-855c-4aad-8376-0df4fba2510f"
      },
      "execution_count": 2,
      "outputs": [
        {
          "output_type": "stream",
          "name": "stdout",
          "text": [
            "Eligible to vote\n"
          ]
        }
      ]
    },
    {
      "cell_type": "markdown",
      "source": [
        "Question 3: Compare and contrast mutable and immutable objects in Python with examples."
      ],
      "metadata": {
        "id": "E4zAnapTF8Y3"
      }
    },
    {
      "cell_type": "markdown",
      "source": [
        "Answer:\n",
        "\n",
        "Mutable Objects: These can be changed after creation, such as lists."
      ],
      "metadata": {
        "id": "fDUJeKq0GBZj"
      }
    },
    {
      "cell_type": "code",
      "source": [
        "\n",
        "my_list = [1, 2, 3]\n",
        "my_list.append(4)  # my_list is now [1, 2, 3, 4]\n",
        "print(my_list)"
      ],
      "metadata": {
        "colab": {
          "base_uri": "https://localhost:8080/"
        },
        "id": "pOXfZxXeGTHT",
        "outputId": "b86f3d95-8156-466b-8040-caac69741e69"
      },
      "execution_count": 1,
      "outputs": [
        {
          "output_type": "stream",
          "name": "stdout",
          "text": [
            "[1, 2, 3, 4]\n"
          ]
        }
      ]
    },
    {
      "cell_type": "markdown",
      "source": [
        "Immutable Objects: These cannot be changed once created, such as strings."
      ],
      "metadata": {
        "id": "8Z1fKov_GwNf"
      }
    },
    {
      "cell_type": "code",
      "source": [
        "my_str = \"Hello\"\n",
        "# my_str[0] = \"h\"  # This would raise an error\n",
        "print(my_str)"
      ],
      "metadata": {
        "colab": {
          "base_uri": "https://localhost:8080/"
        },
        "id": "Sl-rlfW7G319",
        "outputId": "e7c4019a-77d4-4e4d-b273-33205a204865"
      },
      "execution_count": 3,
      "outputs": [
        {
          "output_type": "stream",
          "name": "stdout",
          "text": [
            "Hello\n"
          ]
        }
      ]
    },
    {
      "cell_type": "markdown",
      "source": [
        "Question 4: Discuss the different types of operators in Python and provide examples of how they are used."
      ],
      "metadata": {
        "id": "gDZhdmncG8pB"
      }
    },
    {
      "cell_type": "markdown",
      "source": [
        "Answer:\n",
        "\n",
        "Arithmetic Operators: +, -, *, / (e.g., a + b)\n",
        "Comparison Operators: ==, !=, >, < (e.g., a == b)\n",
        "Logical Operators: and, or, not (e.g., a > b and b > c)\n",
        "Assignment Operators: =, +=, -= (e.g., a += 2)\n",
        "Bitwise Operators: &, |, ^, ~ (e.g., a & b)"
      ],
      "metadata": {
        "id": "zRqml96rHDCz"
      }
    },
    {
      "cell_type": "markdown",
      "source": [
        "Example:"
      ],
      "metadata": {
        "id": "pcnxQNW_HJgm"
      }
    },
    {
      "cell_type": "code",
      "source": [
        "\n",
        "a = 5\n",
        "b = 3\n",
        "print(\"Sum:\", a + b)  # Outputs: 8"
      ],
      "metadata": {
        "colab": {
          "base_uri": "https://localhost:8080/"
        },
        "id": "x94sFem6HTIe",
        "outputId": "9e196263-6b38-4c62-f100-77b1b4d053ef"
      },
      "execution_count": 4,
      "outputs": [
        {
          "output_type": "stream",
          "name": "stdout",
          "text": [
            "Sum: 8\n"
          ]
        }
      ]
    },
    {
      "cell_type": "markdown",
      "source": [
        "Question 5: Explain the concept of type casting in Python with examples."
      ],
      "metadata": {
        "id": "Z6cGT1MbHVWK"
      }
    },
    {
      "cell_type": "markdown",
      "source": [
        "Answer:\n",
        "\n",
        "Type Casting: Converting a variable from one type to another."
      ],
      "metadata": {
        "id": "GwAcfFSxHdCE"
      }
    },
    {
      "cell_type": "markdown",
      "source": [
        "Example:"
      ],
      "metadata": {
        "id": "FfRHCMBbHq4B"
      }
    },
    {
      "cell_type": "code",
      "source": [
        "age = \"25\"\n",
        "age = int(age)  # Converts string to integer\n",
        "print(age + 5)  # Output: 30"
      ],
      "metadata": {
        "colab": {
          "base_uri": "https://localhost:8080/"
        },
        "id": "Y6sYLtCFHz9w",
        "outputId": "da8d7d70-f11c-4830-9936-f54c92522373"
      },
      "execution_count": 5,
      "outputs": [
        {
          "output_type": "stream",
          "name": "stdout",
          "text": [
            "30\n"
          ]
        }
      ]
    },
    {
      "cell_type": "markdown",
      "source": [
        "Question 6: How do conditional statements work in Python? Illustrate with examples."
      ],
      "metadata": {
        "id": "w51ronTUH44F"
      }
    },
    {
      "cell_type": "markdown",
      "source": [
        "Answer: Conditional statements allow decisions in the code based on conditions."
      ],
      "metadata": {
        "id": "_d4U_PRCIKuD"
      }
    },
    {
      "cell_type": "markdown",
      "source": [
        "Example:"
      ],
      "metadata": {
        "id": "1HUwfx76IPpI"
      }
    },
    {
      "cell_type": "code",
      "source": [
        "age = 20\n",
        "if age >= 18:\n",
        "    print(\"Adult\")\n",
        "else:\n",
        "    print(\"Minor\")"
      ],
      "metadata": {
        "colab": {
          "base_uri": "https://localhost:8080/"
        },
        "id": "5meopcr8IULN",
        "outputId": "ea11f0f8-e6e5-4cd8-dadc-fb40b0126404"
      },
      "execution_count": 6,
      "outputs": [
        {
          "output_type": "stream",
          "name": "stdout",
          "text": [
            "Adult\n"
          ]
        }
      ]
    },
    {
      "cell_type": "markdown",
      "source": [
        "Question 7: Describe the different types of loops in Python and their use cases with examples."
      ],
      "metadata": {
        "id": "OwDCcl8TIYwF"
      }
    },
    {
      "cell_type": "markdown",
      "source": [
        "Answer:\n",
        "\n",
        "For Loop: Used to iterate over a sequence."
      ],
      "metadata": {
        "id": "_MLruhmzIcb3"
      }
    },
    {
      "cell_type": "code",
      "source": [
        "for i in range(5):\n",
        "    print(i)  # Outputs: 0, 1, 2, 3, 4"
      ],
      "metadata": {
        "colab": {
          "base_uri": "https://localhost:8080/"
        },
        "id": "WVpCpKhcIg9m",
        "outputId": "97f1fce4-a1eb-4d2f-aca6-cb5e23a4ba51"
      },
      "execution_count": 7,
      "outputs": [
        {
          "output_type": "stream",
          "name": "stdout",
          "text": [
            "0\n",
            "1\n",
            "2\n",
            "3\n",
            "4\n"
          ]
        }
      ]
    },
    {
      "cell_type": "markdown",
      "source": [
        "While Loop: Repeats as long as a condition is true."
      ],
      "metadata": {
        "id": "Jj7KERrJIkJd"
      }
    },
    {
      "cell_type": "code",
      "source": [
        "count = 0\n",
        "while count < 5:\n",
        "    print(count)\n",
        "    count += 1"
      ],
      "metadata": {
        "colab": {
          "base_uri": "https://localhost:8080/"
        },
        "id": "cNH2N5lnIoYh",
        "outputId": "9db7df47-6d51-4bf7-87fd-8561b0f8a99e"
      },
      "execution_count": 8,
      "outputs": [
        {
          "output_type": "stream",
          "name": "stdout",
          "text": [
            "0\n",
            "1\n",
            "2\n",
            "3\n",
            "4\n"
          ]
        }
      ]
    }
  ]
}